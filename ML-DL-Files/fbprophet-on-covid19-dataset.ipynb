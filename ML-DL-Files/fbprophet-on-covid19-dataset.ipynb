{
 "cells": [
  {
   "cell_type": "markdown",
   "metadata": {
    "papermill": {
     "duration": 0.009327,
     "end_time": "2021-02-17T12:30:59.587590",
     "exception": false,
     "start_time": "2021-02-17T12:30:59.578263",
     "status": "completed"
    },
    "tags": []
   },
   "outputs": [],
   "source": [
    "# Performing Time Series Analysis using FbProphet  "
   ]
  },
  {
   "cell_type": "code",
   "execution_count": 1,
   "metadata": {
    "_cell_guid": "b1076dfc-b9ad-4769-8c92-a6c4dae69d19",
    "_uuid": "8f2839f25d086af736a60e9eeb907d3b93b6e0e5",
    "execution": {
     "iopub.execute_input": "2021-02-17T12:30:59.609968Z",
     "iopub.status.busy": "2021-02-17T12:30:59.609287Z",
     "iopub.status.idle": "2021-02-17T12:30:59.619887Z",
     "shell.execute_reply": "2021-02-17T12:30:59.619266Z"
    },
    "papermill": {
     "duration": 0.024259,
     "end_time": "2021-02-17T12:30:59.620091",
     "exception": false,
     "start_time": "2021-02-17T12:30:59.595832",
     "status": "completed"
    },
    "tags": []
   },
   "outputs": [
    {
     "name": "stdout",
     "output_type": "stream",
     "text": [
      "/kaggle/input/covid19dataupdated-on-16022021/owid-covid-data.csv\n"
     ]
    }
   ],
   "source": [
    "import numpy as np\n",
    "import pandas as pd \n",
    "\n",
    "import os\n",
    "for dirname, _, filenames in os.walk('/kaggle/input'):\n",
    "    for filename in filenames:\n",
    "        print(os.path.join(dirname, filename))"
   ]
  },
  {
   "cell_type": "code",
   "execution_count": 2,
   "metadata": {
    "execution": {
     "iopub.execute_input": "2021-02-17T12:30:59.656266Z",
     "iopub.status.busy": "2021-02-17T12:30:59.653001Z",
     "iopub.status.idle": "2021-02-17T12:31:07.973129Z",
     "shell.execute_reply": "2021-02-17T12:31:07.972570Z"
    },
    "papermill": {
     "duration": 8.345038,
     "end_time": "2021-02-17T12:31:07.973307",
     "exception": false,
     "start_time": "2021-02-17T12:30:59.628269",
     "status": "completed"
    },
    "tags": []
   },
   "outputs": [
    {
     "name": "stdout",
     "output_type": "stream",
     "text": [
      "Requirement already satisfied: pystan in /opt/conda/lib/python3.7/site-packages (2.19.1.1)\r\n",
      "Requirement already satisfied: Cython!=0.25.1,>=0.22 in /opt/conda/lib/python3.7/site-packages (from pystan) (0.29.21)\r\n",
      "Requirement already satisfied: numpy>=1.7 in /opt/conda/lib/python3.7/site-packages (from pystan) (1.19.5)\r\n"
     ]
    }
   ],
   "source": [
    "!pip install pystan"
   ]
  },
  {
   "cell_type": "code",
   "execution_count": 3,
   "metadata": {
    "execution": {
     "iopub.execute_input": "2021-02-17T12:31:08.001034Z",
     "iopub.status.busy": "2021-02-17T12:31:08.000335Z",
     "iopub.status.idle": "2021-02-17T12:31:14.637686Z",
     "shell.execute_reply": "2021-02-17T12:31:14.636933Z"
    },
    "papermill": {
     "duration": 6.654642,
     "end_time": "2021-02-17T12:31:14.637837",
     "exception": false,
     "start_time": "2021-02-17T12:31:07.983195",
     "status": "completed"
    },
    "tags": []
   },
   "outputs": [
    {
     "name": "stdout",
     "output_type": "stream",
     "text": [
      "Requirement already satisfied: fbprophet in /opt/conda/lib/python3.7/site-packages (0.7.1)\r\n",
      "Requirement already satisfied: Cython>=0.22 in /opt/conda/lib/python3.7/site-packages (from fbprophet) (0.29.21)\r\n",
      "Requirement already satisfied: cmdstanpy==0.9.5 in /opt/conda/lib/python3.7/site-packages (from fbprophet) (0.9.5)\r\n",
      "Requirement already satisfied: pystan>=2.14 in /opt/conda/lib/python3.7/site-packages (from fbprophet) (2.19.1.1)\r\n",
      "Requirement already satisfied: numpy>=1.15.4 in /opt/conda/lib/python3.7/site-packages (from fbprophet) (1.19.5)\r\n",
      "Requirement already satisfied: pandas>=1.0.4 in /opt/conda/lib/python3.7/site-packages (from fbprophet) (1.2.0)\r\n",
      "Requirement already satisfied: matplotlib>=2.0.0 in /opt/conda/lib/python3.7/site-packages (from fbprophet) (3.3.3)\r\n",
      "Requirement already satisfied: LunarCalendar>=0.0.9 in /opt/conda/lib/python3.7/site-packages (from fbprophet) (0.0.9)\r\n",
      "Requirement already satisfied: convertdate>=2.1.2 in /opt/conda/lib/python3.7/site-packages (from fbprophet) (2.3.0)\r\n",
      "Requirement already satisfied: holidays>=0.10.2 in /opt/conda/lib/python3.7/site-packages (from fbprophet) (0.10.5.2)\r\n",
      "Requirement already satisfied: setuptools-git>=1.2 in /opt/conda/lib/python3.7/site-packages (from fbprophet) (1.2)\r\n",
      "Requirement already satisfied: python-dateutil>=2.8.0 in /opt/conda/lib/python3.7/site-packages (from fbprophet) (2.8.1)\r\n",
      "Requirement already satisfied: tqdm>=4.36.1 in /opt/conda/lib/python3.7/site-packages (from fbprophet) (4.55.1)\r\n",
      "Requirement already satisfied: pytz>=2014.10 in /opt/conda/lib/python3.7/site-packages (from convertdate>=2.1.2->fbprophet) (2020.5)\r\n",
      "Requirement already satisfied: pymeeus<=1,>=0.3.6 in /opt/conda/lib/python3.7/site-packages (from convertdate>=2.1.2->fbprophet) (0.3.7)\r\n",
      "Requirement already satisfied: korean-lunar-calendar in /opt/conda/lib/python3.7/site-packages (from holidays>=0.10.2->fbprophet) (0.2.1)\r\n",
      "Requirement already satisfied: hijri-converter in /opt/conda/lib/python3.7/site-packages (from holidays>=0.10.2->fbprophet) (2.1.1)\r\n",
      "Requirement already satisfied: six in /opt/conda/lib/python3.7/site-packages (from holidays>=0.10.2->fbprophet) (1.15.0)\r\n",
      "Requirement already satisfied: ephem>=3.7.5.3 in /opt/conda/lib/python3.7/site-packages (from LunarCalendar>=0.0.9->fbprophet) (3.7.7.1)\r\n",
      "Requirement already satisfied: cycler>=0.10 in /opt/conda/lib/python3.7/site-packages (from matplotlib>=2.0.0->fbprophet) (0.10.0)\r\n",
      "Requirement already satisfied: pyparsing!=2.0.4,!=2.1.2,!=2.1.6,>=2.0.3 in /opt/conda/lib/python3.7/site-packages (from matplotlib>=2.0.0->fbprophet) (2.4.7)\r\n",
      "Requirement already satisfied: kiwisolver>=1.0.1 in /opt/conda/lib/python3.7/site-packages (from matplotlib>=2.0.0->fbprophet) (1.3.1)\r\n",
      "Requirement already satisfied: pillow>=6.2.0 in /opt/conda/lib/python3.7/site-packages (from matplotlib>=2.0.0->fbprophet) (7.2.0)\r\n"
     ]
    }
   ],
   "source": [
    "! pip install fbprophet"
   ]
  },
  {
   "cell_type": "code",
   "execution_count": 4,
   "metadata": {
    "execution": {
     "iopub.execute_input": "2021-02-17T12:31:14.663689Z",
     "iopub.status.busy": "2021-02-17T12:31:14.662155Z",
     "iopub.status.idle": "2021-02-17T12:31:15.406957Z",
     "shell.execute_reply": "2021-02-17T12:31:15.406431Z"
    },
    "papermill": {
     "duration": 0.759904,
     "end_time": "2021-02-17T12:31:15.407109",
     "exception": false,
     "start_time": "2021-02-17T12:31:14.647205",
     "status": "completed"
    },
    "tags": []
   },
   "outputs": [],
   "source": [
    "data=pd.read_csv('/kaggle/input/covid19dataupdated-on-16022021/owid-covid-data.csv')"
   ]
  },
  {
   "cell_type": "code",
   "execution_count": 5,
   "metadata": {
    "execution": {
     "iopub.execute_input": "2021-02-17T12:31:15.446396Z",
     "iopub.status.busy": "2021-02-17T12:31:15.445628Z",
     "iopub.status.idle": "2021-02-17T12:31:15.479554Z",
     "shell.execute_reply": "2021-02-17T12:31:15.478907Z"
    },
    "papermill": {
     "duration": 0.06396,
     "end_time": "2021-02-17T12:31:15.479707",
     "exception": false,
     "start_time": "2021-02-17T12:31:15.415747",
     "status": "completed"
    },
    "tags": []
   },
   "outputs": [
    {
     "data": {
      "text/html": [
       "<div>\n",
       "<style scoped>\n",
       "    .dataframe tbody tr th:only-of-type {\n",
       "        vertical-align: middle;\n",
       "    }\n",
       "\n",
       "    .dataframe tbody tr th {\n",
       "        vertical-align: top;\n",
       "    }\n",
       "\n",
       "    .dataframe thead th {\n",
       "        text-align: right;\n",
       "    }\n",
       "</style>\n",
       "<table border=\"1\" class=\"dataframe\">\n",
       "  <thead>\n",
       "    <tr style=\"text-align: right;\">\n",
       "      <th></th>\n",
       "      <th>iso_code</th>\n",
       "      <th>continent</th>\n",
       "      <th>location</th>\n",
       "      <th>date</th>\n",
       "      <th>total_cases</th>\n",
       "      <th>new_cases</th>\n",
       "      <th>new_cases_smoothed</th>\n",
       "      <th>total_deaths</th>\n",
       "      <th>new_deaths</th>\n",
       "      <th>new_deaths_smoothed</th>\n",
       "      <th>...</th>\n",
       "      <th>gdp_per_capita</th>\n",
       "      <th>extreme_poverty</th>\n",
       "      <th>cardiovasc_death_rate</th>\n",
       "      <th>diabetes_prevalence</th>\n",
       "      <th>female_smokers</th>\n",
       "      <th>male_smokers</th>\n",
       "      <th>handwashing_facilities</th>\n",
       "      <th>hospital_beds_per_thousand</th>\n",
       "      <th>life_expectancy</th>\n",
       "      <th>human_development_index</th>\n",
       "    </tr>\n",
       "  </thead>\n",
       "  <tbody>\n",
       "    <tr>\n",
       "      <th>0</th>\n",
       "      <td>AFG</td>\n",
       "      <td>Asia</td>\n",
       "      <td>Afghanistan</td>\n",
       "      <td>2020-02-24</td>\n",
       "      <td>1.0</td>\n",
       "      <td>1.0</td>\n",
       "      <td>NaN</td>\n",
       "      <td>NaN</td>\n",
       "      <td>NaN</td>\n",
       "      <td>NaN</td>\n",
       "      <td>...</td>\n",
       "      <td>1803.987</td>\n",
       "      <td>NaN</td>\n",
       "      <td>597.029</td>\n",
       "      <td>9.59</td>\n",
       "      <td>NaN</td>\n",
       "      <td>NaN</td>\n",
       "      <td>37.746</td>\n",
       "      <td>0.5</td>\n",
       "      <td>64.83</td>\n",
       "      <td>0.511</td>\n",
       "    </tr>\n",
       "    <tr>\n",
       "      <th>1</th>\n",
       "      <td>AFG</td>\n",
       "      <td>Asia</td>\n",
       "      <td>Afghanistan</td>\n",
       "      <td>2020-02-25</td>\n",
       "      <td>1.0</td>\n",
       "      <td>0.0</td>\n",
       "      <td>NaN</td>\n",
       "      <td>NaN</td>\n",
       "      <td>NaN</td>\n",
       "      <td>NaN</td>\n",
       "      <td>...</td>\n",
       "      <td>1803.987</td>\n",
       "      <td>NaN</td>\n",
       "      <td>597.029</td>\n",
       "      <td>9.59</td>\n",
       "      <td>NaN</td>\n",
       "      <td>NaN</td>\n",
       "      <td>37.746</td>\n",
       "      <td>0.5</td>\n",
       "      <td>64.83</td>\n",
       "      <td>0.511</td>\n",
       "    </tr>\n",
       "    <tr>\n",
       "      <th>2</th>\n",
       "      <td>AFG</td>\n",
       "      <td>Asia</td>\n",
       "      <td>Afghanistan</td>\n",
       "      <td>2020-02-26</td>\n",
       "      <td>1.0</td>\n",
       "      <td>0.0</td>\n",
       "      <td>NaN</td>\n",
       "      <td>NaN</td>\n",
       "      <td>NaN</td>\n",
       "      <td>NaN</td>\n",
       "      <td>...</td>\n",
       "      <td>1803.987</td>\n",
       "      <td>NaN</td>\n",
       "      <td>597.029</td>\n",
       "      <td>9.59</td>\n",
       "      <td>NaN</td>\n",
       "      <td>NaN</td>\n",
       "      <td>37.746</td>\n",
       "      <td>0.5</td>\n",
       "      <td>64.83</td>\n",
       "      <td>0.511</td>\n",
       "    </tr>\n",
       "    <tr>\n",
       "      <th>3</th>\n",
       "      <td>AFG</td>\n",
       "      <td>Asia</td>\n",
       "      <td>Afghanistan</td>\n",
       "      <td>2020-02-27</td>\n",
       "      <td>1.0</td>\n",
       "      <td>0.0</td>\n",
       "      <td>NaN</td>\n",
       "      <td>NaN</td>\n",
       "      <td>NaN</td>\n",
       "      <td>NaN</td>\n",
       "      <td>...</td>\n",
       "      <td>1803.987</td>\n",
       "      <td>NaN</td>\n",
       "      <td>597.029</td>\n",
       "      <td>9.59</td>\n",
       "      <td>NaN</td>\n",
       "      <td>NaN</td>\n",
       "      <td>37.746</td>\n",
       "      <td>0.5</td>\n",
       "      <td>64.83</td>\n",
       "      <td>0.511</td>\n",
       "    </tr>\n",
       "    <tr>\n",
       "      <th>4</th>\n",
       "      <td>AFG</td>\n",
       "      <td>Asia</td>\n",
       "      <td>Afghanistan</td>\n",
       "      <td>2020-02-28</td>\n",
       "      <td>1.0</td>\n",
       "      <td>0.0</td>\n",
       "      <td>NaN</td>\n",
       "      <td>NaN</td>\n",
       "      <td>NaN</td>\n",
       "      <td>NaN</td>\n",
       "      <td>...</td>\n",
       "      <td>1803.987</td>\n",
       "      <td>NaN</td>\n",
       "      <td>597.029</td>\n",
       "      <td>9.59</td>\n",
       "      <td>NaN</td>\n",
       "      <td>NaN</td>\n",
       "      <td>37.746</td>\n",
       "      <td>0.5</td>\n",
       "      <td>64.83</td>\n",
       "      <td>0.511</td>\n",
       "    </tr>\n",
       "  </tbody>\n",
       "</table>\n",
       "<p>5 rows × 59 columns</p>\n",
       "</div>"
      ],
      "text/plain": [
       "  iso_code continent     location        date  total_cases  new_cases  \\\n",
       "0      AFG      Asia  Afghanistan  2020-02-24          1.0        1.0   \n",
       "1      AFG      Asia  Afghanistan  2020-02-25          1.0        0.0   \n",
       "2      AFG      Asia  Afghanistan  2020-02-26          1.0        0.0   \n",
       "3      AFG      Asia  Afghanistan  2020-02-27          1.0        0.0   \n",
       "4      AFG      Asia  Afghanistan  2020-02-28          1.0        0.0   \n",
       "\n",
       "   new_cases_smoothed  total_deaths  new_deaths  new_deaths_smoothed  ...  \\\n",
       "0                 NaN           NaN         NaN                  NaN  ...   \n",
       "1                 NaN           NaN         NaN                  NaN  ...   \n",
       "2                 NaN           NaN         NaN                  NaN  ...   \n",
       "3                 NaN           NaN         NaN                  NaN  ...   \n",
       "4                 NaN           NaN         NaN                  NaN  ...   \n",
       "\n",
       "   gdp_per_capita  extreme_poverty  cardiovasc_death_rate  \\\n",
       "0        1803.987              NaN                597.029   \n",
       "1        1803.987              NaN                597.029   \n",
       "2        1803.987              NaN                597.029   \n",
       "3        1803.987              NaN                597.029   \n",
       "4        1803.987              NaN                597.029   \n",
       "\n",
       "   diabetes_prevalence  female_smokers  male_smokers  handwashing_facilities  \\\n",
       "0                 9.59             NaN           NaN                  37.746   \n",
       "1                 9.59             NaN           NaN                  37.746   \n",
       "2                 9.59             NaN           NaN                  37.746   \n",
       "3                 9.59             NaN           NaN                  37.746   \n",
       "4                 9.59             NaN           NaN                  37.746   \n",
       "\n",
       "   hospital_beds_per_thousand  life_expectancy  human_development_index  \n",
       "0                         0.5            64.83                    0.511  \n",
       "1                         0.5            64.83                    0.511  \n",
       "2                         0.5            64.83                    0.511  \n",
       "3                         0.5            64.83                    0.511  \n",
       "4                         0.5            64.83                    0.511  \n",
       "\n",
       "[5 rows x 59 columns]"
      ]
     },
     "execution_count": 5,
     "metadata": {},
     "output_type": "execute_result"
    }
   ],
   "source": [
    "data.head()"
   ]
  },
  {
   "cell_type": "code",
   "execution_count": 6,
   "metadata": {
    "execution": {
     "iopub.execute_input": "2021-02-17T12:31:15.504120Z",
     "iopub.status.busy": "2021-02-17T12:31:15.503166Z",
     "iopub.status.idle": "2021-02-17T12:31:15.507206Z",
     "shell.execute_reply": "2021-02-17T12:31:15.506496Z"
    },
    "papermill": {
     "duration": 0.018717,
     "end_time": "2021-02-17T12:31:15.507364",
     "exception": false,
     "start_time": "2021-02-17T12:31:15.488647",
     "status": "completed"
    },
    "tags": []
   },
   "outputs": [
    {
     "data": {
      "text/plain": [
       "(69175, 59)"
      ]
     },
     "execution_count": 6,
     "metadata": {},
     "output_type": "execute_result"
    }
   ],
   "source": [
    "data.shape"
   ]
  },
  {
   "cell_type": "code",
   "execution_count": 7,
   "metadata": {
    "execution": {
     "iopub.execute_input": "2021-02-17T12:31:15.530930Z",
     "iopub.status.busy": "2021-02-17T12:31:15.530104Z",
     "iopub.status.idle": "2021-02-17T12:31:15.580068Z",
     "shell.execute_reply": "2021-02-17T12:31:15.580598Z"
    },
    "papermill": {
     "duration": 0.06405,
     "end_time": "2021-02-17T12:31:15.580817",
     "exception": false,
     "start_time": "2021-02-17T12:31:15.516767",
     "status": "completed"
    },
    "tags": []
   },
   "outputs": [
    {
     "data": {
      "text/plain": [
       "iso_code                                     0\n",
       "continent                                 3454\n",
       "location                                     0\n",
       "date                                         0\n",
       "total_cases                                829\n",
       "new_cases                                  831\n",
       "new_cases_smoothed                        1832\n",
       "total_deaths                              9765\n",
       "new_deaths                                9607\n",
       "new_deaths_smoothed                       1832\n",
       "total_cases_per_million                   1204\n",
       "new_cases_per_million                     1206\n",
       "new_cases_smoothed_per_million            2202\n",
       "total_deaths_per_million                 10127\n",
       "new_deaths_per_million                    9969\n",
       "new_deaths_smoothed_per_million           2202\n",
       "reproduction_rate                        17880\n",
       "icu_patients                             61858\n",
       "icu_patients_per_million                 61858\n",
       "hosp_patients                            60476\n",
       "hosp_patients_per_million                60476\n",
       "weekly_icu_admissions                    68488\n",
       "weekly_icu_admissions_per_million        68488\n",
       "weekly_hosp_admissions                   68039\n",
       "weekly_hosp_admissions_per_million       68039\n",
       "new_tests                                37813\n",
       "total_tests                              38005\n",
       "total_tests_per_thousand                 38005\n",
       "new_tests_per_thousand                   37813\n",
       "new_tests_smoothed                       33707\n",
       "new_tests_smoothed_per_thousand          33707\n",
       "positive_rate                            35417\n",
       "tests_per_case                           35932\n",
       "tests_units                              32443\n",
       "total_vaccinations                       67135\n",
       "people_vaccinated                        67492\n",
       "people_fully_vaccinated                  68137\n",
       "new_vaccinations                         67466\n",
       "new_vaccinations_smoothed                66230\n",
       "total_vaccinations_per_hundred           67135\n",
       "people_vaccinated_per_hundred            67492\n",
       "people_fully_vaccinated_per_hundred      68137\n",
       "new_vaccinations_smoothed_per_million    66230\n",
       "stringency_index                         10078\n",
       "population                                 384\n",
       "population_density                        4495\n",
       "median_age                                6152\n",
       "aged_65_older                             6880\n",
       "aged_70_older                             6508\n",
       "gdp_per_capita                            6014\n",
       "extreme_poverty                          26002\n",
       "cardiovasc_death_rate                     5401\n",
       "diabetes_prevalence                       4621\n",
       "female_smokers                           18939\n",
       "male_smokers                             19628\n",
       "handwashing_facilities                   37198\n",
       "hospital_beds_per_thousand               10696\n",
       "life_expectancy                           3431\n",
       "human_development_index                   5416\n",
       "dtype: int64"
      ]
     },
     "execution_count": 7,
     "metadata": {},
     "output_type": "execute_result"
    }
   ],
   "source": [
    "data.isna().sum()"
   ]
  },
  {
   "cell_type": "markdown",
   "metadata": {
    "papermill": {
     "duration": 0.00944,
     "end_time": "2021-02-17T12:31:15.599847",
     "exception": false,
     "start_time": "2021-02-17T12:31:15.590407",
     "status": "completed"
    },
    "tags": []
   },
   "outputs": [],
   "source": [
    "## Performing on Indian dataset"
   ]
  },
  {
   "cell_type": "code",
   "execution_count": 8,
   "metadata": {
    "execution": {
     "iopub.execute_input": "2021-02-17T12:31:15.636709Z",
     "iopub.status.busy": "2021-02-17T12:31:15.635726Z",
     "iopub.status.idle": "2021-02-17T12:31:15.640147Z",
     "shell.execute_reply": "2021-02-17T12:31:15.639495Z"
    },
    "papermill": {
     "duration": 0.03072,
     "end_time": "2021-02-17T12:31:15.640309",
     "exception": false,
     "start_time": "2021-02-17T12:31:15.609589",
     "status": "completed"
    },
    "tags": []
   },
   "outputs": [],
   "source": [
    "df_india=data[data.location=='India']"
   ]
  },
  {
   "cell_type": "code",
   "execution_count": 9,
   "metadata": {
    "execution": {
     "iopub.execute_input": "2021-02-17T12:31:15.672142Z",
     "iopub.status.busy": "2021-02-17T12:31:15.666951Z",
     "iopub.status.idle": "2021-02-17T12:31:15.675765Z",
     "shell.execute_reply": "2021-02-17T12:31:15.675068Z"
    },
    "papermill": {
     "duration": 0.025893,
     "end_time": "2021-02-17T12:31:15.675912",
     "exception": false,
     "start_time": "2021-02-17T12:31:15.650019",
     "status": "completed"
    },
    "tags": []
   },
   "outputs": [],
   "source": [
    "df=df_india.groupby(['date'])['total_cases'].sum().reset_index()"
   ]
  },
  {
   "cell_type": "code",
   "execution_count": 10,
   "metadata": {
    "execution": {
     "iopub.execute_input": "2021-02-17T12:31:15.705497Z",
     "iopub.status.busy": "2021-02-17T12:31:15.704740Z",
     "iopub.status.idle": "2021-02-17T12:31:15.711004Z",
     "shell.execute_reply": "2021-02-17T12:31:15.710463Z"
    },
    "papermill": {
     "duration": 0.025339,
     "end_time": "2021-02-17T12:31:15.711141",
     "exception": false,
     "start_time": "2021-02-17T12:31:15.685802",
     "status": "completed"
    },
    "tags": []
   },
   "outputs": [
    {
     "data": {
      "text/html": [
       "<div>\n",
       "<style scoped>\n",
       "    .dataframe tbody tr th:only-of-type {\n",
       "        vertical-align: middle;\n",
       "    }\n",
       "\n",
       "    .dataframe tbody tr th {\n",
       "        vertical-align: top;\n",
       "    }\n",
       "\n",
       "    .dataframe thead th {\n",
       "        text-align: right;\n",
       "    }\n",
       "</style>\n",
       "<table border=\"1\" class=\"dataframe\">\n",
       "  <thead>\n",
       "    <tr style=\"text-align: right;\">\n",
       "      <th></th>\n",
       "      <th>date</th>\n",
       "      <th>total_cases</th>\n",
       "    </tr>\n",
       "  </thead>\n",
       "  <tbody>\n",
       "    <tr>\n",
       "      <th>378</th>\n",
       "      <td>2021-02-11</td>\n",
       "      <td>10880603.0</td>\n",
       "    </tr>\n",
       "    <tr>\n",
       "      <th>379</th>\n",
       "      <td>2021-02-12</td>\n",
       "      <td>10892746.0</td>\n",
       "    </tr>\n",
       "    <tr>\n",
       "      <th>380</th>\n",
       "      <td>2021-02-13</td>\n",
       "      <td>10904940.0</td>\n",
       "    </tr>\n",
       "    <tr>\n",
       "      <th>381</th>\n",
       "      <td>2021-02-14</td>\n",
       "      <td>10916589.0</td>\n",
       "    </tr>\n",
       "    <tr>\n",
       "      <th>382</th>\n",
       "      <td>2021-02-15</td>\n",
       "      <td>10925710.0</td>\n",
       "    </tr>\n",
       "  </tbody>\n",
       "</table>\n",
       "</div>"
      ],
      "text/plain": [
       "           date  total_cases\n",
       "378  2021-02-11   10880603.0\n",
       "379  2021-02-12   10892746.0\n",
       "380  2021-02-13   10904940.0\n",
       "381  2021-02-14   10916589.0\n",
       "382  2021-02-15   10925710.0"
      ]
     },
     "execution_count": 10,
     "metadata": {},
     "output_type": "execute_result"
    }
   ],
   "source": [
    "df.tail()"
   ]
  },
  {
   "cell_type": "code",
   "execution_count": 11,
   "metadata": {
    "execution": {
     "iopub.execute_input": "2021-02-17T12:31:15.737893Z",
     "iopub.status.busy": "2021-02-17T12:31:15.737117Z",
     "iopub.status.idle": "2021-02-17T12:31:15.740672Z",
     "shell.execute_reply": "2021-02-17T12:31:15.741204Z"
    },
    "papermill": {
     "duration": 0.020908,
     "end_time": "2021-02-17T12:31:15.741390",
     "exception": false,
     "start_time": "2021-02-17T12:31:15.720482",
     "status": "completed"
    },
    "tags": []
   },
   "outputs": [
    {
     "data": {
      "text/plain": [
       "date           0\n",
       "total_cases    0\n",
       "dtype: int64"
      ]
     },
     "execution_count": 11,
     "metadata": {},
     "output_type": "execute_result"
    }
   ],
   "source": [
    "df.isnull().sum()"
   ]
  },
  {
   "cell_type": "code",
   "execution_count": 12,
   "metadata": {
    "execution": {
     "iopub.execute_input": "2021-02-17T12:31:15.767272Z",
     "iopub.status.busy": "2021-02-17T12:31:15.766482Z",
     "iopub.status.idle": "2021-02-17T12:31:15.769377Z",
     "shell.execute_reply": "2021-02-17T12:31:15.768709Z"
    },
    "papermill": {
     "duration": 0.018243,
     "end_time": "2021-02-17T12:31:15.769519",
     "exception": false,
     "start_time": "2021-02-17T12:31:15.751276",
     "status": "completed"
    },
    "tags": []
   },
   "outputs": [],
   "source": [
    "df.rename(columns={'date':'Date','total_cases':'TotalCases'},inplace=True)"
   ]
  },
  {
   "cell_type": "code",
   "execution_count": 13,
   "metadata": {
    "execution": {
     "iopub.execute_input": "2021-02-17T12:31:15.799706Z",
     "iopub.status.busy": "2021-02-17T12:31:15.798507Z",
     "iopub.status.idle": "2021-02-17T12:31:15.801944Z",
     "shell.execute_reply": "2021-02-17T12:31:15.801312Z"
    },
    "papermill": {
     "duration": 0.02223,
     "end_time": "2021-02-17T12:31:15.802093",
     "exception": false,
     "start_time": "2021-02-17T12:31:15.779863",
     "status": "completed"
    },
    "tags": []
   },
   "outputs": [],
   "source": [
    "df['Date']=pd.to_datetime(df['Date'])"
   ]
  },
  {
   "cell_type": "code",
   "execution_count": 14,
   "metadata": {
    "execution": {
     "iopub.execute_input": "2021-02-17T12:31:15.834723Z",
     "iopub.status.busy": "2021-02-17T12:31:15.833881Z",
     "iopub.status.idle": "2021-02-17T12:31:15.837930Z",
     "shell.execute_reply": "2021-02-17T12:31:15.837299Z"
    },
    "papermill": {
     "duration": 0.025355,
     "end_time": "2021-02-17T12:31:15.838071",
     "exception": false,
     "start_time": "2021-02-17T12:31:15.812716",
     "status": "completed"
    },
    "tags": []
   },
   "outputs": [
    {
     "data": {
      "text/html": [
       "<div>\n",
       "<style scoped>\n",
       "    .dataframe tbody tr th:only-of-type {\n",
       "        vertical-align: middle;\n",
       "    }\n",
       "\n",
       "    .dataframe tbody tr th {\n",
       "        vertical-align: top;\n",
       "    }\n",
       "\n",
       "    .dataframe thead th {\n",
       "        text-align: right;\n",
       "    }\n",
       "</style>\n",
       "<table border=\"1\" class=\"dataframe\">\n",
       "  <thead>\n",
       "    <tr style=\"text-align: right;\">\n",
       "      <th></th>\n",
       "      <th>Date</th>\n",
       "      <th>TotalCases</th>\n",
       "    </tr>\n",
       "  </thead>\n",
       "  <tbody>\n",
       "    <tr>\n",
       "      <th>0</th>\n",
       "      <td>2020-01-30</td>\n",
       "      <td>1.0</td>\n",
       "    </tr>\n",
       "    <tr>\n",
       "      <th>1</th>\n",
       "      <td>2020-01-31</td>\n",
       "      <td>1.0</td>\n",
       "    </tr>\n",
       "    <tr>\n",
       "      <th>2</th>\n",
       "      <td>2020-02-01</td>\n",
       "      <td>1.0</td>\n",
       "    </tr>\n",
       "    <tr>\n",
       "      <th>3</th>\n",
       "      <td>2020-02-02</td>\n",
       "      <td>2.0</td>\n",
       "    </tr>\n",
       "    <tr>\n",
       "      <th>4</th>\n",
       "      <td>2020-02-03</td>\n",
       "      <td>3.0</td>\n",
       "    </tr>\n",
       "  </tbody>\n",
       "</table>\n",
       "</div>"
      ],
      "text/plain": [
       "        Date  TotalCases\n",
       "0 2020-01-30         1.0\n",
       "1 2020-01-31         1.0\n",
       "2 2020-02-01         1.0\n",
       "3 2020-02-02         2.0\n",
       "4 2020-02-03         3.0"
      ]
     },
     "execution_count": 14,
     "metadata": {},
     "output_type": "execute_result"
    }
   ],
   "source": [
    "df.head()"
   ]
  },
  {
   "cell_type": "code",
   "execution_count": 15,
   "metadata": {
    "execution": {
     "iopub.execute_input": "2021-02-17T12:31:15.866422Z",
     "iopub.status.busy": "2021-02-17T12:31:15.865350Z",
     "iopub.status.idle": "2021-02-17T12:31:15.869410Z",
     "shell.execute_reply": "2021-02-17T12:31:15.868893Z"
    },
    "papermill": {
     "duration": 0.021218,
     "end_time": "2021-02-17T12:31:15.869555",
     "exception": false,
     "start_time": "2021-02-17T12:31:15.848337",
     "status": "completed"
    },
    "tags": []
   },
   "outputs": [
    {
     "data": {
      "text/plain": [
       "Date          datetime64[ns]\n",
       "TotalCases           float64\n",
       "dtype: object"
      ]
     },
     "execution_count": 15,
     "metadata": {},
     "output_type": "execute_result"
    }
   ],
   "source": [
    "df.dtypes"
   ]
  },
  {
   "cell_type": "code",
   "execution_count": 16,
   "metadata": {
    "execution": {
     "iopub.execute_input": "2021-02-17T12:31:15.895888Z",
     "iopub.status.busy": "2021-02-17T12:31:15.895120Z",
     "iopub.status.idle": "2021-02-17T12:31:15.899346Z",
     "shell.execute_reply": "2021-02-17T12:31:15.898764Z"
    },
    "papermill": {
     "duration": 0.019452,
     "end_time": "2021-02-17T12:31:15.899504",
     "exception": false,
     "start_time": "2021-02-17T12:31:15.880052",
     "status": "completed"
    },
    "tags": []
   },
   "outputs": [],
   "source": [
    "df_prophet=df.copy()"
   ]
  },
  {
   "cell_type": "code",
   "execution_count": 17,
   "metadata": {
    "execution": {
     "iopub.execute_input": "2021-02-17T12:31:15.926756Z",
     "iopub.status.busy": "2021-02-17T12:31:15.925966Z",
     "iopub.status.idle": "2021-02-17T12:31:15.928993Z",
     "shell.execute_reply": "2021-02-17T12:31:15.928355Z"
    },
    "papermill": {
     "duration": 0.019227,
     "end_time": "2021-02-17T12:31:15.929148",
     "exception": false,
     "start_time": "2021-02-17T12:31:15.909921",
     "status": "completed"
    },
    "tags": []
   },
   "outputs": [],
   "source": [
    "df_prophet.rename(columns={'Date':'ds','TotalCases':'y'},inplace=True)"
   ]
  },
  {
   "cell_type": "code",
   "execution_count": 18,
   "metadata": {
    "execution": {
     "iopub.execute_input": "2021-02-17T12:31:15.955540Z",
     "iopub.status.busy": "2021-02-17T12:31:15.954785Z",
     "iopub.status.idle": "2021-02-17T12:31:15.963820Z",
     "shell.execute_reply": "2021-02-17T12:31:15.964365Z"
    },
    "papermill": {
     "duration": 0.024988,
     "end_time": "2021-02-17T12:31:15.964543",
     "exception": false,
     "start_time": "2021-02-17T12:31:15.939555",
     "status": "completed"
    },
    "tags": []
   },
   "outputs": [
    {
     "data": {
      "text/html": [
       "<div>\n",
       "<style scoped>\n",
       "    .dataframe tbody tr th:only-of-type {\n",
       "        vertical-align: middle;\n",
       "    }\n",
       "\n",
       "    .dataframe tbody tr th {\n",
       "        vertical-align: top;\n",
       "    }\n",
       "\n",
       "    .dataframe thead th {\n",
       "        text-align: right;\n",
       "    }\n",
       "</style>\n",
       "<table border=\"1\" class=\"dataframe\">\n",
       "  <thead>\n",
       "    <tr style=\"text-align: right;\">\n",
       "      <th></th>\n",
       "      <th>ds</th>\n",
       "      <th>y</th>\n",
       "    </tr>\n",
       "  </thead>\n",
       "  <tbody>\n",
       "    <tr>\n",
       "      <th>0</th>\n",
       "      <td>2020-01-30</td>\n",
       "      <td>1.0</td>\n",
       "    </tr>\n",
       "    <tr>\n",
       "      <th>1</th>\n",
       "      <td>2020-01-31</td>\n",
       "      <td>1.0</td>\n",
       "    </tr>\n",
       "    <tr>\n",
       "      <th>2</th>\n",
       "      <td>2020-02-01</td>\n",
       "      <td>1.0</td>\n",
       "    </tr>\n",
       "    <tr>\n",
       "      <th>3</th>\n",
       "      <td>2020-02-02</td>\n",
       "      <td>2.0</td>\n",
       "    </tr>\n",
       "    <tr>\n",
       "      <th>4</th>\n",
       "      <td>2020-02-03</td>\n",
       "      <td>3.0</td>\n",
       "    </tr>\n",
       "  </tbody>\n",
       "</table>\n",
       "</div>"
      ],
      "text/plain": [
       "          ds    y\n",
       "0 2020-01-30  1.0\n",
       "1 2020-01-31  1.0\n",
       "2 2020-02-01  1.0\n",
       "3 2020-02-02  2.0\n",
       "4 2020-02-03  3.0"
      ]
     },
     "execution_count": 18,
     "metadata": {},
     "output_type": "execute_result"
    }
   ],
   "source": [
    "df_prophet.head()"
   ]
  },
  {
   "cell_type": "code",
   "execution_count": 19,
   "metadata": {
    "execution": {
     "iopub.execute_input": "2021-02-17T12:31:15.989784Z",
     "iopub.status.busy": "2021-02-17T12:31:15.988782Z",
     "iopub.status.idle": "2021-02-17T12:31:18.054203Z",
     "shell.execute_reply": "2021-02-17T12:31:18.054747Z"
    },
    "papermill": {
     "duration": 2.079632,
     "end_time": "2021-02-17T12:31:18.054922",
     "exception": false,
     "start_time": "2021-02-17T12:31:15.975290",
     "status": "completed"
    },
    "tags": []
   },
   "outputs": [],
   "source": [
    "from fbprophet import Prophet\n",
    "m=Prophet()"
   ]
  },
  {
   "cell_type": "code",
   "execution_count": 20,
   "metadata": {
    "execution": {
     "iopub.execute_input": "2021-02-17T12:31:18.079023Z",
     "iopub.status.busy": "2021-02-17T12:31:18.078376Z",
     "iopub.status.idle": "2021-02-17T12:31:18.454934Z",
     "shell.execute_reply": "2021-02-17T12:31:18.454385Z"
    },
    "papermill": {
     "duration": 0.389815,
     "end_time": "2021-02-17T12:31:18.455088",
     "exception": false,
     "start_time": "2021-02-17T12:31:18.065273",
     "status": "completed"
    },
    "tags": []
   },
   "outputs": [],
   "source": [
    "model=m.fit(df_prophet)"
   ]
  },
  {
   "cell_type": "code",
   "execution_count": 21,
   "metadata": {
    "execution": {
     "iopub.execute_input": "2021-02-17T12:31:18.482401Z",
     "iopub.status.busy": "2021-02-17T12:31:18.481371Z",
     "iopub.status.idle": "2021-02-17T12:31:18.486029Z",
     "shell.execute_reply": "2021-02-17T12:31:18.485419Z"
    },
    "papermill": {
     "duration": 0.020719,
     "end_time": "2021-02-17T12:31:18.486190",
     "exception": false,
     "start_time": "2021-02-17T12:31:18.465471",
     "status": "completed"
    },
    "tags": []
   },
   "outputs": [
    {
     "data": {
      "text/plain": [
       "OrderedDict([('weekly',\n",
       "              {'period': 7,\n",
       "               'fourier_order': 3,\n",
       "               'prior_scale': 10.0,\n",
       "               'mode': 'additive',\n",
       "               'condition_name': None})])"
      ]
     },
     "execution_count": 21,
     "metadata": {},
     "output_type": "execute_result"
    }
   ],
   "source": [
    "m.seasonalities"
   ]
  },
  {
   "cell_type": "code",
   "execution_count": 22,
   "metadata": {
    "execution": {
     "iopub.execute_input": "2021-02-17T12:31:18.516635Z",
     "iopub.status.busy": "2021-02-17T12:31:18.515952Z",
     "iopub.status.idle": "2021-02-17T12:31:18.519167Z",
     "shell.execute_reply": "2021-02-17T12:31:18.518421Z"
    },
    "papermill": {
     "duration": 0.022407,
     "end_time": "2021-02-17T12:31:18.519331",
     "exception": false,
     "start_time": "2021-02-17T12:31:18.496924",
     "status": "completed"
    },
    "tags": []
   },
   "outputs": [],
   "source": [
    "future=model.make_future_dataframe(periods=30,freq='D')"
   ]
  },
  {
   "cell_type": "code",
   "execution_count": 23,
   "metadata": {
    "execution": {
     "iopub.execute_input": "2021-02-17T12:31:18.549212Z",
     "iopub.status.busy": "2021-02-17T12:31:18.546787Z",
     "iopub.status.idle": "2021-02-17T12:31:18.553738Z",
     "shell.execute_reply": "2021-02-17T12:31:18.553147Z"
    },
    "papermill": {
     "duration": 0.023871,
     "end_time": "2021-02-17T12:31:18.553881",
     "exception": false,
     "start_time": "2021-02-17T12:31:18.530010",
     "status": "completed"
    },
    "tags": []
   },
   "outputs": [
    {
     "data": {
      "text/html": [
       "<div>\n",
       "<style scoped>\n",
       "    .dataframe tbody tr th:only-of-type {\n",
       "        vertical-align: middle;\n",
       "    }\n",
       "\n",
       "    .dataframe tbody tr th {\n",
       "        vertical-align: top;\n",
       "    }\n",
       "\n",
       "    .dataframe thead th {\n",
       "        text-align: right;\n",
       "    }\n",
       "</style>\n",
       "<table border=\"1\" class=\"dataframe\">\n",
       "  <thead>\n",
       "    <tr style=\"text-align: right;\">\n",
       "      <th></th>\n",
       "      <th>ds</th>\n",
       "    </tr>\n",
       "  </thead>\n",
       "  <tbody>\n",
       "    <tr>\n",
       "      <th>408</th>\n",
       "      <td>2021-03-13</td>\n",
       "    </tr>\n",
       "    <tr>\n",
       "      <th>409</th>\n",
       "      <td>2021-03-14</td>\n",
       "    </tr>\n",
       "    <tr>\n",
       "      <th>410</th>\n",
       "      <td>2021-03-15</td>\n",
       "    </tr>\n",
       "    <tr>\n",
       "      <th>411</th>\n",
       "      <td>2021-03-16</td>\n",
       "    </tr>\n",
       "    <tr>\n",
       "      <th>412</th>\n",
       "      <td>2021-03-17</td>\n",
       "    </tr>\n",
       "  </tbody>\n",
       "</table>\n",
       "</div>"
      ],
      "text/plain": [
       "            ds\n",
       "408 2021-03-13\n",
       "409 2021-03-14\n",
       "410 2021-03-15\n",
       "411 2021-03-16\n",
       "412 2021-03-17"
      ]
     },
     "execution_count": 23,
     "metadata": {},
     "output_type": "execute_result"
    }
   ],
   "source": [
    "future.tail()"
   ]
  },
  {
   "cell_type": "code",
   "execution_count": 24,
   "metadata": {
    "execution": {
     "iopub.execute_input": "2021-02-17T12:31:18.582889Z",
     "iopub.status.busy": "2021-02-17T12:31:18.582224Z",
     "iopub.status.idle": "2021-02-17T12:31:18.587058Z",
     "shell.execute_reply": "2021-02-17T12:31:18.586439Z"
    },
    "papermill": {
     "duration": 0.022404,
     "end_time": "2021-02-17T12:31:18.587218",
     "exception": false,
     "start_time": "2021-02-17T12:31:18.564814",
     "status": "completed"
    },
    "tags": []
   },
   "outputs": [
    {
     "data": {
      "text/plain": [
       "378   2021-02-11\n",
       "379   2021-02-12\n",
       "380   2021-02-13\n",
       "381   2021-02-14\n",
       "382   2021-02-15\n",
       "Name: ds, dtype: datetime64[ns]"
      ]
     },
     "execution_count": 24,
     "metadata": {},
     "output_type": "execute_result"
    }
   ],
   "source": [
    "df_prophet['ds'].tail()"
   ]
  },
  {
   "cell_type": "code",
   "execution_count": 25,
   "metadata": {
    "execution": {
     "iopub.execute_input": "2021-02-17T12:31:18.616704Z",
     "iopub.status.busy": "2021-02-17T12:31:18.615983Z",
     "iopub.status.idle": "2021-02-17T12:31:20.821403Z",
     "shell.execute_reply": "2021-02-17T12:31:20.820846Z"
    },
    "papermill": {
     "duration": 2.223344,
     "end_time": "2021-02-17T12:31:20.821555",
     "exception": false,
     "start_time": "2021-02-17T12:31:18.598211",
     "status": "completed"
    },
    "tags": []
   },
   "outputs": [],
   "source": [
    "prediction=model.predict(future)"
   ]
  },
  {
   "cell_type": "code",
   "execution_count": 26,
   "metadata": {
    "execution": {
     "iopub.execute_input": "2021-02-17T12:31:20.876871Z",
     "iopub.status.busy": "2021-02-17T12:31:20.876191Z",
     "iopub.status.idle": "2021-02-17T12:31:20.883077Z",
     "shell.execute_reply": "2021-02-17T12:31:20.882530Z"
    },
    "papermill": {
     "duration": 0.050658,
     "end_time": "2021-02-17T12:31:20.883244",
     "exception": false,
     "start_time": "2021-02-17T12:31:20.832586",
     "status": "completed"
    },
    "tags": []
   },
   "outputs": [
    {
     "data": {
      "text/html": [
       "<div>\n",
       "<style scoped>\n",
       "    .dataframe tbody tr th:only-of-type {\n",
       "        vertical-align: middle;\n",
       "    }\n",
       "\n",
       "    .dataframe tbody tr th {\n",
       "        vertical-align: top;\n",
       "    }\n",
       "\n",
       "    .dataframe thead th {\n",
       "        text-align: right;\n",
       "    }\n",
       "</style>\n",
       "<table border=\"1\" class=\"dataframe\">\n",
       "  <thead>\n",
       "    <tr style=\"text-align: right;\">\n",
       "      <th></th>\n",
       "      <th>ds</th>\n",
       "      <th>trend</th>\n",
       "      <th>yhat_lower</th>\n",
       "      <th>yhat_upper</th>\n",
       "      <th>trend_lower</th>\n",
       "      <th>trend_upper</th>\n",
       "      <th>additive_terms</th>\n",
       "      <th>additive_terms_lower</th>\n",
       "      <th>additive_terms_upper</th>\n",
       "      <th>weekly</th>\n",
       "      <th>weekly_lower</th>\n",
       "      <th>weekly_upper</th>\n",
       "      <th>multiplicative_terms</th>\n",
       "      <th>multiplicative_terms_lower</th>\n",
       "      <th>multiplicative_terms_upper</th>\n",
       "      <th>yhat</th>\n",
       "    </tr>\n",
       "  </thead>\n",
       "  <tbody>\n",
       "    <tr>\n",
       "      <th>0</th>\n",
       "      <td>2020-01-30</td>\n",
       "      <td>-9.362429e+02</td>\n",
       "      <td>-4.598673e+04</td>\n",
       "      <td>4.100298e+04</td>\n",
       "      <td>-9.362429e+02</td>\n",
       "      <td>-9.362429e+02</td>\n",
       "      <td>288.856384</td>\n",
       "      <td>288.856384</td>\n",
       "      <td>288.856384</td>\n",
       "      <td>288.856384</td>\n",
       "      <td>288.856384</td>\n",
       "      <td>288.856384</td>\n",
       "      <td>0.0</td>\n",
       "      <td>0.0</td>\n",
       "      <td>0.0</td>\n",
       "      <td>-6.473866e+02</td>\n",
       "    </tr>\n",
       "    <tr>\n",
       "      <th>1</th>\n",
       "      <td>2020-01-31</td>\n",
       "      <td>-9.145228e+02</td>\n",
       "      <td>-4.939356e+04</td>\n",
       "      <td>4.570903e+04</td>\n",
       "      <td>-9.145228e+02</td>\n",
       "      <td>-9.145228e+02</td>\n",
       "      <td>906.177016</td>\n",
       "      <td>906.177016</td>\n",
       "      <td>906.177016</td>\n",
       "      <td>906.177016</td>\n",
       "      <td>906.177016</td>\n",
       "      <td>906.177016</td>\n",
       "      <td>0.0</td>\n",
       "      <td>0.0</td>\n",
       "      <td>0.0</td>\n",
       "      <td>-8.345780e+00</td>\n",
       "    </tr>\n",
       "    <tr>\n",
       "      <th>2</th>\n",
       "      <td>2020-02-01</td>\n",
       "      <td>-8.928026e+02</td>\n",
       "      <td>-4.882946e+04</td>\n",
       "      <td>4.599154e+04</td>\n",
       "      <td>-8.928026e+02</td>\n",
       "      <td>-8.928026e+02</td>\n",
       "      <td>2195.851146</td>\n",
       "      <td>2195.851146</td>\n",
       "      <td>2195.851146</td>\n",
       "      <td>2195.851146</td>\n",
       "      <td>2195.851146</td>\n",
       "      <td>2195.851146</td>\n",
       "      <td>0.0</td>\n",
       "      <td>0.0</td>\n",
       "      <td>0.0</td>\n",
       "      <td>1.303049e+03</td>\n",
       "    </tr>\n",
       "    <tr>\n",
       "      <th>3</th>\n",
       "      <td>2020-02-02</td>\n",
       "      <td>-8.710825e+02</td>\n",
       "      <td>-4.483153e+04</td>\n",
       "      <td>4.549933e+04</td>\n",
       "      <td>-8.710825e+02</td>\n",
       "      <td>-8.710825e+02</td>\n",
       "      <td>1533.663191</td>\n",
       "      <td>1533.663191</td>\n",
       "      <td>1533.663191</td>\n",
       "      <td>1533.663191</td>\n",
       "      <td>1533.663191</td>\n",
       "      <td>1533.663191</td>\n",
       "      <td>0.0</td>\n",
       "      <td>0.0</td>\n",
       "      <td>0.0</td>\n",
       "      <td>6.625807e+02</td>\n",
       "    </tr>\n",
       "    <tr>\n",
       "      <th>4</th>\n",
       "      <td>2020-02-03</td>\n",
       "      <td>-8.493623e+02</td>\n",
       "      <td>-5.042291e+04</td>\n",
       "      <td>4.211195e+04</td>\n",
       "      <td>-8.493623e+02</td>\n",
       "      <td>-8.493623e+02</td>\n",
       "      <td>-3230.413228</td>\n",
       "      <td>-3230.413228</td>\n",
       "      <td>-3230.413228</td>\n",
       "      <td>-3230.413228</td>\n",
       "      <td>-3230.413228</td>\n",
       "      <td>-3230.413228</td>\n",
       "      <td>0.0</td>\n",
       "      <td>0.0</td>\n",
       "      <td>0.0</td>\n",
       "      <td>-4.079776e+03</td>\n",
       "    </tr>\n",
       "    <tr>\n",
       "      <th>...</th>\n",
       "      <td>...</td>\n",
       "      <td>...</td>\n",
       "      <td>...</td>\n",
       "      <td>...</td>\n",
       "      <td>...</td>\n",
       "      <td>...</td>\n",
       "      <td>...</td>\n",
       "      <td>...</td>\n",
       "      <td>...</td>\n",
       "      <td>...</td>\n",
       "      <td>...</td>\n",
       "      <td>...</td>\n",
       "      <td>...</td>\n",
       "      <td>...</td>\n",
       "      <td>...</td>\n",
       "      <td>...</td>\n",
       "    </tr>\n",
       "    <tr>\n",
       "      <th>408</th>\n",
       "      <td>2021-03-13</td>\n",
       "      <td>1.154656e+07</td>\n",
       "      <td>1.132463e+07</td>\n",
       "      <td>1.175472e+07</td>\n",
       "      <td>1.132718e+07</td>\n",
       "      <td>1.174946e+07</td>\n",
       "      <td>2195.851146</td>\n",
       "      <td>2195.851146</td>\n",
       "      <td>2195.851146</td>\n",
       "      <td>2195.851146</td>\n",
       "      <td>2195.851146</td>\n",
       "      <td>2195.851146</td>\n",
       "      <td>0.0</td>\n",
       "      <td>0.0</td>\n",
       "      <td>0.0</td>\n",
       "      <td>1.154876e+07</td>\n",
       "    </tr>\n",
       "    <tr>\n",
       "      <th>409</th>\n",
       "      <td>2021-03-14</td>\n",
       "      <td>1.156529e+07</td>\n",
       "      <td>1.132692e+07</td>\n",
       "      <td>1.180289e+07</td>\n",
       "      <td>1.133174e+07</td>\n",
       "      <td>1.178017e+07</td>\n",
       "      <td>1533.663191</td>\n",
       "      <td>1533.663191</td>\n",
       "      <td>1533.663191</td>\n",
       "      <td>1533.663191</td>\n",
       "      <td>1533.663191</td>\n",
       "      <td>1533.663191</td>\n",
       "      <td>0.0</td>\n",
       "      <td>0.0</td>\n",
       "      <td>0.0</td>\n",
       "      <td>1.156682e+07</td>\n",
       "    </tr>\n",
       "    <tr>\n",
       "      <th>410</th>\n",
       "      <td>2021-03-15</td>\n",
       "      <td>1.158401e+07</td>\n",
       "      <td>1.133252e+07</td>\n",
       "      <td>1.181627e+07</td>\n",
       "      <td>1.133651e+07</td>\n",
       "      <td>1.181319e+07</td>\n",
       "      <td>-3230.413228</td>\n",
       "      <td>-3230.413228</td>\n",
       "      <td>-3230.413228</td>\n",
       "      <td>-3230.413228</td>\n",
       "      <td>-3230.413228</td>\n",
       "      <td>-3230.413228</td>\n",
       "      <td>0.0</td>\n",
       "      <td>0.0</td>\n",
       "      <td>0.0</td>\n",
       "      <td>1.158078e+07</td>\n",
       "    </tr>\n",
       "    <tr>\n",
       "      <th>411</th>\n",
       "      <td>2021-03-16</td>\n",
       "      <td>1.160274e+07</td>\n",
       "      <td>1.133317e+07</td>\n",
       "      <td>1.184594e+07</td>\n",
       "      <td>1.134110e+07</td>\n",
       "      <td>1.184771e+07</td>\n",
       "      <td>-1545.630334</td>\n",
       "      <td>-1545.630334</td>\n",
       "      <td>-1545.630334</td>\n",
       "      <td>-1545.630334</td>\n",
       "      <td>-1545.630334</td>\n",
       "      <td>-1545.630334</td>\n",
       "      <td>0.0</td>\n",
       "      <td>0.0</td>\n",
       "      <td>0.0</td>\n",
       "      <td>1.160119e+07</td>\n",
       "    </tr>\n",
       "    <tr>\n",
       "      <th>412</th>\n",
       "      <td>2021-03-17</td>\n",
       "      <td>1.162147e+07</td>\n",
       "      <td>1.134696e+07</td>\n",
       "      <td>1.189148e+07</td>\n",
       "      <td>1.134576e+07</td>\n",
       "      <td>1.187757e+07</td>\n",
       "      <td>-148.504176</td>\n",
       "      <td>-148.504176</td>\n",
       "      <td>-148.504176</td>\n",
       "      <td>-148.504176</td>\n",
       "      <td>-148.504176</td>\n",
       "      <td>-148.504176</td>\n",
       "      <td>0.0</td>\n",
       "      <td>0.0</td>\n",
       "      <td>0.0</td>\n",
       "      <td>1.162132e+07</td>\n",
       "    </tr>\n",
       "  </tbody>\n",
       "</table>\n",
       "<p>413 rows × 16 columns</p>\n",
       "</div>"
      ],
      "text/plain": [
       "            ds         trend    yhat_lower    yhat_upper   trend_lower  \\\n",
       "0   2020-01-30 -9.362429e+02 -4.598673e+04  4.100298e+04 -9.362429e+02   \n",
       "1   2020-01-31 -9.145228e+02 -4.939356e+04  4.570903e+04 -9.145228e+02   \n",
       "2   2020-02-01 -8.928026e+02 -4.882946e+04  4.599154e+04 -8.928026e+02   \n",
       "3   2020-02-02 -8.710825e+02 -4.483153e+04  4.549933e+04 -8.710825e+02   \n",
       "4   2020-02-03 -8.493623e+02 -5.042291e+04  4.211195e+04 -8.493623e+02   \n",
       "..         ...           ...           ...           ...           ...   \n",
       "408 2021-03-13  1.154656e+07  1.132463e+07  1.175472e+07  1.132718e+07   \n",
       "409 2021-03-14  1.156529e+07  1.132692e+07  1.180289e+07  1.133174e+07   \n",
       "410 2021-03-15  1.158401e+07  1.133252e+07  1.181627e+07  1.133651e+07   \n",
       "411 2021-03-16  1.160274e+07  1.133317e+07  1.184594e+07  1.134110e+07   \n",
       "412 2021-03-17  1.162147e+07  1.134696e+07  1.189148e+07  1.134576e+07   \n",
       "\n",
       "      trend_upper  additive_terms  additive_terms_lower  additive_terms_upper  \\\n",
       "0   -9.362429e+02      288.856384            288.856384            288.856384   \n",
       "1   -9.145228e+02      906.177016            906.177016            906.177016   \n",
       "2   -8.928026e+02     2195.851146           2195.851146           2195.851146   \n",
       "3   -8.710825e+02     1533.663191           1533.663191           1533.663191   \n",
       "4   -8.493623e+02    -3230.413228          -3230.413228          -3230.413228   \n",
       "..            ...             ...                   ...                   ...   \n",
       "408  1.174946e+07     2195.851146           2195.851146           2195.851146   \n",
       "409  1.178017e+07     1533.663191           1533.663191           1533.663191   \n",
       "410  1.181319e+07    -3230.413228          -3230.413228          -3230.413228   \n",
       "411  1.184771e+07    -1545.630334          -1545.630334          -1545.630334   \n",
       "412  1.187757e+07     -148.504176           -148.504176           -148.504176   \n",
       "\n",
       "          weekly  weekly_lower  weekly_upper  multiplicative_terms  \\\n",
       "0     288.856384    288.856384    288.856384                   0.0   \n",
       "1     906.177016    906.177016    906.177016                   0.0   \n",
       "2    2195.851146   2195.851146   2195.851146                   0.0   \n",
       "3    1533.663191   1533.663191   1533.663191                   0.0   \n",
       "4   -3230.413228  -3230.413228  -3230.413228                   0.0   \n",
       "..           ...           ...           ...                   ...   \n",
       "408  2195.851146   2195.851146   2195.851146                   0.0   \n",
       "409  1533.663191   1533.663191   1533.663191                   0.0   \n",
       "410 -3230.413228  -3230.413228  -3230.413228                   0.0   \n",
       "411 -1545.630334  -1545.630334  -1545.630334                   0.0   \n",
       "412  -148.504176   -148.504176   -148.504176                   0.0   \n",
       "\n",
       "     multiplicative_terms_lower  multiplicative_terms_upper          yhat  \n",
       "0                           0.0                         0.0 -6.473866e+02  \n",
       "1                           0.0                         0.0 -8.345780e+00  \n",
       "2                           0.0                         0.0  1.303049e+03  \n",
       "3                           0.0                         0.0  6.625807e+02  \n",
       "4                           0.0                         0.0 -4.079776e+03  \n",
       "..                          ...                         ...           ...  \n",
       "408                         0.0                         0.0  1.154876e+07  \n",
       "409                         0.0                         0.0  1.156682e+07  \n",
       "410                         0.0                         0.0  1.158078e+07  \n",
       "411                         0.0                         0.0  1.160119e+07  \n",
       "412                         0.0                         0.0  1.162132e+07  \n",
       "\n",
       "[413 rows x 16 columns]"
      ]
     },
     "execution_count": 26,
     "metadata": {},
     "output_type": "execute_result"
    }
   ],
   "source": [
    "prediction"
   ]
  },
  {
   "cell_type": "markdown",
   "metadata": {
    "papermill": {
     "duration": 0.011306,
     "end_time": "2021-02-17T12:31:20.906260",
     "exception": false,
     "start_time": "2021-02-17T12:31:20.894954",
     "status": "completed"
    },
    "tags": []
   },
   "outputs": [],
   "source": [
    "## Visualising Predicitions"
   ]
  },
  {
   "cell_type": "code",
   "execution_count": 27,
   "metadata": {
    "execution": {
     "iopub.execute_input": "2021-02-17T12:31:20.933220Z",
     "iopub.status.busy": "2021-02-17T12:31:20.932478Z",
     "iopub.status.idle": "2021-02-17T12:31:21.432207Z",
     "shell.execute_reply": "2021-02-17T12:31:21.432706Z"
    },
    "papermill": {
     "duration": 0.515069,
     "end_time": "2021-02-17T12:31:21.432886",
     "exception": false,
     "start_time": "2021-02-17T12:31:20.917817",
     "status": "completed"
    },
    "tags": []
   },
   "outputs": [
    {
     "data": {
      "image/png": "[encoded data removed]",
      "text/plain": [
       "<Figure size 720x432 with 1 Axes>"
      ]
     },
     "execution_count": 27,
     "metadata": {},
     "output_type": "execute_result"
    },
    {
     "data": {
      "image/png": "[encoded data removed]",
      "text/plain": [
       "<Figure size 720x432 with 1 Axes>"
      ]
     },
     "metadata": {},
     "output_type": "display_data"
    }
   ],
   "source": [
    "model.plot(prediction)"
   ]
  },
  {
   "cell_type": "markdown",
   "metadata": {
    "papermill": {
     "duration": 0.012639,
     "end_time": "2021-02-17T12:31:21.458318",
     "exception": false,
     "start_time": "2021-02-17T12:31:21.445679",
     "status": "completed"
    },
    "tags": []
   },
   "outputs": [],
   "source": [
    "## Visualising Components"
   ]
  },
  {
   "cell_type": "code",
   "execution_count": 28,
   "metadata": {
    "execution": {
     "iopub.execute_input": "2021-02-17T12:31:21.507146Z",
     "iopub.status.busy": "2021-02-17T12:31:21.505247Z",
     "iopub.status.idle": "2021-02-17T12:31:22.206844Z",
     "shell.execute_reply": "2021-02-17T12:31:22.206071Z"
    },
    "papermill": {
     "duration": 0.736096,
     "end_time": "2021-02-17T12:31:22.206998",
     "exception": false,
     "start_time": "2021-02-17T12:31:21.470902",
     "status": "completed"
    },
    "tags": []
   },
   "outputs": [
    {
     "data": {
      "image/png": "[encoded data removed]",
      "text/plain": [
       "<Figure size 648x432 with 2 Axes>"
      ]
     },
     "execution_count": 28,
     "metadata": {},
     "output_type": "execute_result"
    },
    {
     "data": {
      "image/png": "[encoded data removed]",
      "text/plain": [
       "<Figure size 648x432 with 2 Axes>"
      ]
     },
     "metadata": {},
     "output_type": "display_data"
    }
   ],
   "source": [
    "model.plot_components(prediction)"
   ]
  },
  {
   "cell_type": "markdown",
   "metadata": {
    "papermill": {
     "duration": 0.021781,
     "end_time": "2021-02-17T12:31:22.243893",
     "exception": false,
     "start_time": "2021-02-17T12:31:22.222112",
     "status": "completed"
    },
    "tags": []
   },
   "outputs": [],
   "source": [
    "## Doing CrossValidation"
   ]
  },
  {
   "cell_type": "code",
   "execution_count": 29,
   "metadata": {
    "execution": {
     "iopub.execute_input": "2021-02-17T12:31:22.315762Z",
     "iopub.status.busy": "2021-02-17T12:31:22.315034Z",
     "iopub.status.idle": "2021-02-17T12:32:05.564683Z",
     "shell.execute_reply": "2021-02-17T12:32:05.564003Z"
    },
    "papermill": {
     "duration": 43.30005,
     "end_time": "2021-02-17T12:32:05.564839",
     "exception": false,
     "start_time": "2021-02-17T12:31:22.264789",
     "status": "completed"
    },
    "tags": []
   },
   "outputs": [
    {
     "data": {
      "application/vnd.jupyter.widget-view+json": {
       "model_id": "ace92f8f365b413b909319364969fb76",
       "version_major": 2,
       "version_minor": 0
      },
      "text/plain": [
       "  0%|          | 0/18 [00:00<?, ?it/s]"
      ]
     },
     "metadata": {},
     "output_type": "display_data"
    }
   ],
   "source": [
    "from fbprophet.diagnostics import cross_validation\n",
    "df_cv=cross_validation(model,horizon='30 days',period='15 days',initial='90 days')"
   ]
  },
  {
   "cell_type": "code",
   "execution_count": 30,
   "metadata": {
    "execution": {
     "iopub.execute_input": "2021-02-17T12:32:05.596570Z",
     "iopub.status.busy": "2021-02-17T12:32:05.595867Z",
     "iopub.status.idle": "2021-02-17T12:32:05.608977Z",
     "shell.execute_reply": "2021-02-17T12:32:05.609502Z"
    },
    "papermill": {
     "duration": 0.030576,
     "end_time": "2021-02-17T12:32:05.609692",
     "exception": false,
     "start_time": "2021-02-17T12:32:05.579116",
     "status": "completed"
    },
    "tags": []
   },
   "outputs": [
    {
     "data": {
      "text/html": [
       "<div>\n",
       "<style scoped>\n",
       "    .dataframe tbody tr th:only-of-type {\n",
       "        vertical-align: middle;\n",
       "    }\n",
       "\n",
       "    .dataframe tbody tr th {\n",
       "        vertical-align: top;\n",
       "    }\n",
       "\n",
       "    .dataframe thead th {\n",
       "        text-align: right;\n",
       "    }\n",
       "</style>\n",
       "<table border=\"1\" class=\"dataframe\">\n",
       "  <thead>\n",
       "    <tr style=\"text-align: right;\">\n",
       "      <th></th>\n",
       "      <th>ds</th>\n",
       "      <th>yhat</th>\n",
       "      <th>yhat_lower</th>\n",
       "      <th>yhat_upper</th>\n",
       "      <th>y</th>\n",
       "      <th>cutoff</th>\n",
       "    </tr>\n",
       "  </thead>\n",
       "  <tbody>\n",
       "    <tr>\n",
       "      <th>0</th>\n",
       "      <td>2020-05-07</td>\n",
       "      <td>49281.623047</td>\n",
       "      <td>48072.994098</td>\n",
       "      <td>50537.726632</td>\n",
       "      <td>56351.0</td>\n",
       "      <td>2020-05-06</td>\n",
       "    </tr>\n",
       "    <tr>\n",
       "      <th>1</th>\n",
       "      <td>2020-05-08</td>\n",
       "      <td>51002.316522</td>\n",
       "      <td>49831.665304</td>\n",
       "      <td>52132.750268</td>\n",
       "      <td>59695.0</td>\n",
       "      <td>2020-05-06</td>\n",
       "    </tr>\n",
       "    <tr>\n",
       "      <th>2</th>\n",
       "      <td>2020-05-09</td>\n",
       "      <td>52811.261540</td>\n",
       "      <td>51614.715867</td>\n",
       "      <td>53942.259672</td>\n",
       "      <td>62808.0</td>\n",
       "      <td>2020-05-06</td>\n",
       "    </tr>\n",
       "    <tr>\n",
       "      <th>3</th>\n",
       "      <td>2020-05-10</td>\n",
       "      <td>54659.759434</td>\n",
       "      <td>53450.952127</td>\n",
       "      <td>55845.521177</td>\n",
       "      <td>67161.0</td>\n",
       "      <td>2020-05-06</td>\n",
       "    </tr>\n",
       "    <tr>\n",
       "      <th>4</th>\n",
       "      <td>2020-05-11</td>\n",
       "      <td>56608.539649</td>\n",
       "      <td>55431.479000</td>\n",
       "      <td>57843.332677</td>\n",
       "      <td>70768.0</td>\n",
       "      <td>2020-05-06</td>\n",
       "    </tr>\n",
       "  </tbody>\n",
       "</table>\n",
       "</div>"
      ],
      "text/plain": [
       "          ds          yhat    yhat_lower    yhat_upper        y     cutoff\n",
       "0 2020-05-07  49281.623047  48072.994098  50537.726632  56351.0 2020-05-06\n",
       "1 2020-05-08  51002.316522  49831.665304  52132.750268  59695.0 2020-05-06\n",
       "2 2020-05-09  52811.261540  51614.715867  53942.259672  62808.0 2020-05-06\n",
       "3 2020-05-10  54659.759434  53450.952127  55845.521177  67161.0 2020-05-06\n",
       "4 2020-05-11  56608.539649  55431.479000  57843.332677  70768.0 2020-05-06"
      ]
     },
     "execution_count": 30,
     "metadata": {},
     "output_type": "execute_result"
    }
   ],
   "source": [
    "df_cv.head()"
   ]
  },
  {
   "cell_type": "markdown",
   "metadata": {
    "papermill": {
     "duration": 0.013816,
     "end_time": "2021-02-17T12:32:05.638035",
     "exception": false,
     "start_time": "2021-02-17T12:32:05.624219",
     "status": "completed"
    },
    "tags": []
   },
   "outputs": [],
   "source": [
    "## Visualising changepoints in the model"
   ]
  },
  {
   "cell_type": "code",
   "execution_count": 31,
   "metadata": {
    "execution": {
     "iopub.execute_input": "2021-02-17T12:32:05.670440Z",
     "iopub.status.busy": "2021-02-17T12:32:05.669721Z",
     "iopub.status.idle": "2021-02-17T12:32:06.004215Z",
     "shell.execute_reply": "2021-02-17T12:32:06.003659Z"
    },
    "papermill": {
     "duration": 0.351683,
     "end_time": "2021-02-17T12:32:06.004367",
     "exception": false,
     "start_time": "2021-02-17T12:32:05.652684",
     "status": "completed"
    },
    "tags": []
   },
   "outputs": [
    {
     "data": {
      "image/png": "[encoded data removed]",
      "text/plain": [
       "<Figure size 720x432 with 1 Axes>"
      ]
     },
     "metadata": {},
     "output_type": "display_data"
    }
   ],
   "source": [
    "from fbprophet.plot import add_changepoints_to_plot\n",
    "fig=model.plot(prediction)\n",
    "a=add_changepoints_to_plot(fig.gca(),model,prediction)"
   ]
  },
  {
   "cell_type": "code",
   "execution_count": 32,
   "metadata": {
    "execution": {
     "iopub.execute_input": "2021-02-17T12:32:06.042700Z",
     "iopub.status.busy": "2021-02-17T12:32:06.041911Z",
     "iopub.status.idle": "2021-02-17T12:32:06.161763Z",
     "shell.execute_reply": "2021-02-17T12:32:06.161061Z"
    },
    "papermill": {
     "duration": 0.142474,
     "end_time": "2021-02-17T12:32:06.161912",
     "exception": false,
     "start_time": "2021-02-17T12:32:06.019438",
     "status": "completed"
    },
    "tags": []
   },
   "outputs": [
    {
     "data": {
      "text/html": [
       "<div>\n",
       "<style scoped>\n",
       "    .dataframe tbody tr th:only-of-type {\n",
       "        vertical-align: middle;\n",
       "    }\n",
       "\n",
       "    .dataframe tbody tr th {\n",
       "        vertical-align: top;\n",
       "    }\n",
       "\n",
       "    .dataframe thead th {\n",
       "        text-align: right;\n",
       "    }\n",
       "</style>\n",
       "<table border=\"1\" class=\"dataframe\">\n",
       "  <thead>\n",
       "    <tr style=\"text-align: right;\">\n",
       "      <th></th>\n",
       "      <th>horizon</th>\n",
       "      <th>mse</th>\n",
       "      <th>rmse</th>\n",
       "      <th>mae</th>\n",
       "      <th>mape</th>\n",
       "      <th>mdape</th>\n",
       "      <th>coverage</th>\n",
       "    </tr>\n",
       "  </thead>\n",
       "  <tbody>\n",
       "    <tr>\n",
       "      <th>0</th>\n",
       "      <td>3 days</td>\n",
       "      <td>4.026224e+10</td>\n",
       "      <td>200654.529684</td>\n",
       "      <td>166044.214737</td>\n",
       "      <td>0.061034</td>\n",
       "      <td>0.047009</td>\n",
       "      <td>0.055556</td>\n",
       "    </tr>\n",
       "    <tr>\n",
       "      <th>1</th>\n",
       "      <td>4 days</td>\n",
       "      <td>4.689592e+10</td>\n",
       "      <td>216554.658223</td>\n",
       "      <td>180194.295810</td>\n",
       "      <td>0.067525</td>\n",
       "      <td>0.051387</td>\n",
       "      <td>0.055556</td>\n",
       "    </tr>\n",
       "    <tr>\n",
       "      <th>2</th>\n",
       "      <td>5 days</td>\n",
       "      <td>5.420312e+10</td>\n",
       "      <td>232815.640199</td>\n",
       "      <td>195014.194316</td>\n",
       "      <td>0.073681</td>\n",
       "      <td>0.054049</td>\n",
       "      <td>0.055556</td>\n",
       "    </tr>\n",
       "    <tr>\n",
       "      <th>3</th>\n",
       "      <td>6 days</td>\n",
       "      <td>6.227231e+10</td>\n",
       "      <td>249544.194737</td>\n",
       "      <td>210505.343122</td>\n",
       "      <td>0.079829</td>\n",
       "      <td>0.057156</td>\n",
       "      <td>0.055556</td>\n",
       "    </tr>\n",
       "    <tr>\n",
       "      <th>4</th>\n",
       "      <td>7 days</td>\n",
       "      <td>7.187012e+10</td>\n",
       "      <td>268086.030781</td>\n",
       "      <td>227653.744897</td>\n",
       "      <td>0.085939</td>\n",
       "      <td>0.061264</td>\n",
       "      <td>0.055556</td>\n",
       "    </tr>\n",
       "  </tbody>\n",
       "</table>\n",
       "</div>"
      ],
      "text/plain": [
       "  horizon           mse           rmse            mae      mape     mdape  \\\n",
       "0  3 days  4.026224e+10  200654.529684  166044.214737  0.061034  0.047009   \n",
       "1  4 days  4.689592e+10  216554.658223  180194.295810  0.067525  0.051387   \n",
       "2  5 days  5.420312e+10  232815.640199  195014.194316  0.073681  0.054049   \n",
       "3  6 days  6.227231e+10  249544.194737  210505.343122  0.079829  0.057156   \n",
       "4  7 days  7.187012e+10  268086.030781  227653.744897  0.085939  0.061264   \n",
       "\n",
       "   coverage  \n",
       "0  0.055556  \n",
       "1  0.055556  \n",
       "2  0.055556  \n",
       "3  0.055556  \n",
       "4  0.055556  "
      ]
     },
     "execution_count": 32,
     "metadata": {},
     "output_type": "execute_result"
    }
   ],
   "source": [
    "from fbprophet.diagnostics import performance_metrics\n",
    "df_perf=performance_metrics(df_cv)\n",
    "df_perf.head()"
   ]
  },
  {
   "cell_type": "code",
   "execution_count": 33,
   "metadata": {
    "execution": {
     "iopub.execute_input": "2021-02-17T12:32:06.206727Z",
     "iopub.status.busy": "2021-02-17T12:32:06.205695Z",
     "iopub.status.idle": "2021-02-17T12:32:06.528813Z",
     "shell.execute_reply": "2021-02-17T12:32:06.528194Z"
    },
    "papermill": {
     "duration": 0.351196,
     "end_time": "2021-02-17T12:32:06.528965",
     "exception": false,
     "start_time": "2021-02-17T12:32:06.177769",
     "status": "completed"
    },
    "tags": []
   },
   "outputs": [
    {
     "data": {
      "image/png": "[encoded data removed]",
      "text/plain": [
       "<Figure size 720x432 with 1 Axes>"
      ]
     },
     "execution_count": 33,
     "metadata": {},
     "output_type": "execute_result"
    },
    {
     "data": {
      "image/png": "[encoded data removed]",
      "text/plain": [
       "<Figure size 720x432 with 1 Axes>"
      ]
     },
     "metadata": {},
     "output_type": "display_data"
    }
   ],
   "source": [
    "from fbprophet.plot import plot_cross_validation_metric\n",
    "plot_cross_validation_metric(df_cv,metric='rmse')"
   ]
  },
  {
   "cell_type": "code",
   "execution_count": null,
   "metadata": {
    "papermill": {
     "duration": 0.01629,
     "end_time": "2021-02-17T12:32:06.561950",
     "exception": false,
     "start_time": "2021-02-17T12:32:06.545660",
     "status": "completed"
    },
    "tags": []
   },
   "outputs": [],
   "source": []
  }
 ],
 "metadata": {
  "kernelspec": {
   "display_name": "Python 3",
   "language": "python",
   "name": "python3"
  },
  "language_info": {
   "codemirror_mode": {
    "name": "ipython",
    "version": 3
   },
   "file_extension": ".py",
   "mimetype": "text/x-python",
   "name": "python",
   "nbconvert_exporter": "python",
   "pygments_lexer": "ipython3",
   "version": "3.7.9"
  },
  "papermill": {
   "default_parameters": {},
   "duration": 73.679475,
   "end_time": "2021-02-17T12:32:07.289656",
   "environment_variables": {},
   "exception": null,
   "input_path": "__notebook__.ipynb",
   "output_path": "__notebook__.ipynb",
   "parameters": {},
   "start_time": "2021-02-17T12:30:53.610181",
   "version": "2.2.2"
  },
  "widgets": {
   "application/vnd.jupyter.widget-state+json": {
    "state": {
     "41e035af622f48a8b19a6fa802441137": {
      "model_module": "@jupyter-widgets/base",
      "model_module_version": "1.2.0",
      "model_name": "LayoutModel",
      "state": {
       "_model_module": "@jupyter-widgets/base",
       "_model_module_version": "1.2.0",
       "_model_name": "LayoutModel",
       "_view_count": null,
       "_view_module": "@jupyter-widgets/base",
       "_view_module_version": "1.2.0",
       "_view_name": "LayoutView",
       "align_content": null,
       "align_items": null,
       "align_self": null,
       "border": null,
       "bottom": null,
       "display": null,
       "flex": null,
       "flex_flow": null,
       "grid_area": null,
       "grid_auto_columns": null,
       "grid_auto_flow": null,
       "grid_auto_rows": null,
       "grid_column": null,
       "grid_gap": null,
       "grid_row": null,
       "grid_template_areas": null,
       "grid_template_columns": null,
       "grid_template_rows": null,
       "height": null,
       "justify_content": null,
       "justify_items": null,
       "left": null,
       "margin": null,
       "max_height": null,
       "max_width": null,
       "min_height": null,
       "min_width": null,
       "object_fit": null,
       "object_position": null,
       "order": null,
       "overflow": null,
       "overflow_x": null,
       "overflow_y": null,
       "padding": null,
       "right": null,
       "top": null,
       "visibility": null,
       "width": null
      }
     },
     "60565391435342e696c22d82bc4454bd": {
      "model_module": "@jupyter-widgets/controls",
      "model_module_version": "1.5.0",
      "model_name": "DescriptionStyleModel",
      "state": {
       "_model_module": "@jupyter-widgets/controls",
       "_model_module_version": "1.5.0",
       "_model_name": "DescriptionStyleModel",
       "_view_count": null,
       "_view_module": "@jupyter-widgets/base",
       "_view_module_version": "1.2.0",
       "_view_name": "StyleView",
       "description_width": ""
      }
     },
     "60a20d1d30094e32b3cbc27a6862013f": {
      "model_module": "@jupyter-widgets/controls",
      "model_module_version": "1.5.0",
      "model_name": "ProgressStyleModel",
      "state": {
       "_model_module": "@jupyter-widgets/controls",
       "_model_module_version": "1.5.0",
       "_model_name": "ProgressStyleModel",
       "_view_count": null,
       "_view_module": "@jupyter-widgets/base",
       "_view_module_version": "1.2.0",
       "_view_name": "StyleView",
       "bar_color": null,
       "description_width": ""
      }
     },
     "8ff2b0a934ae4ef49e22150fd222813a": {
      "model_module": "@jupyter-widgets/controls",
      "model_module_version": "1.5.0",
      "model_name": "DescriptionStyleModel",
      "state": {
       "_model_module": "@jupyter-widgets/controls",
       "_model_module_version": "1.5.0",
       "_model_name": "DescriptionStyleModel",
       "_view_count": null,
       "_view_module": "@jupyter-widgets/base",
       "_view_module_version": "1.2.0",
       "_view_name": "StyleView",
       "description_width": ""
      }
     },
     "91010d82c76648879557eb4d73271018": {
      "model_module": "@jupyter-widgets/controls",
      "model_module_version": "1.5.0",
      "model_name": "HTMLModel",
      "state": {
       "_dom_classes": [],
       "_model_module": "@jupyter-widgets/controls",
       "_model_module_version": "1.5.0",
       "_model_name": "HTMLModel",
       "_view_count": null,
       "_view_module": "@jupyter-widgets/controls",
       "_view_module_version": "1.5.0",
       "_view_name": "HTMLView",
       "description": "",
       "description_tooltip": null,
       "layout": "IPY_MODEL_feeb70f2ee8f4234b9d1b3f1208eec5e",
       "placeholder": "​",
       "style": "IPY_MODEL_60565391435342e696c22d82bc4454bd",
       "value": " 18/18 [00:43&lt;00:00,  2.39s/it]"
      }
     },
     "a2448679149d46f9a23b0ac4aa5fb4bf": {
      "model_module": "@jupyter-widgets/base",
      "model_module_version": "1.2.0",
      "model_name": "LayoutModel",
      "state": {
       "_model_module": "@jupyter-widgets/base",
       "_model_module_version": "1.2.0",
       "_model_name": "LayoutModel",
       "_view_count": null,
       "_view_module": "@jupyter-widgets/base",
       "_view_module_version": "1.2.0",
       "_view_name": "LayoutView",
       "align_content": null,
       "align_items": null,
       "align_self": null,
       "border": null,
       "bottom": null,
       "display": null,
       "flex": null,
       "flex_flow": null,
       "grid_area": null,
       "grid_auto_columns": null,
       "grid_auto_flow": null,
       "grid_auto_rows": null,
       "grid_column": null,
       "grid_gap": null,
       "grid_row": null,
       "grid_template_areas": null,
       "grid_template_columns": null,
       "grid_template_rows": null,
       "height": null,
       "justify_content": null,
       "justify_items": null,
       "left": null,
       "margin": null,
       "max_height": null,
       "max_width": null,
       "min_height": null,
       "min_width": null,
       "object_fit": null,
       "object_position": null,
       "order": null,
       "overflow": null,
       "overflow_x": null,
       "overflow_y": null,
       "padding": null,
       "right": null,
       "top": null,
       "visibility": null,
       "width": null
      }
     },
     "ace92f8f365b413b909319364969fb76": {
      "model_module": "@jupyter-widgets/controls",
      "model_module_version": "1.5.0",
      "model_name": "HBoxModel",
      "state": {
       "_dom_classes": [],
       "_model_module": "@jupyter-widgets/controls",
       "_model_module_version": "1.5.0",
       "_model_name": "HBoxModel",
       "_view_count": null,
       "_view_module": "@jupyter-widgets/controls",
       "_view_module_version": "1.5.0",
       "_view_name": "HBoxView",
       "box_style": "",
       "children": [
        "IPY_MODEL_efc90b809c424a36b4ad6faa61639516",
        "IPY_MODEL_dab397acdbdd48acadc1997200950325",
        "IPY_MODEL_91010d82c76648879557eb4d73271018"
       ],
       "layout": "IPY_MODEL_41e035af622f48a8b19a6fa802441137"
      }
     },
     "d0121fee306648379da9d81e88238147": {
      "model_module": "@jupyter-widgets/base",
      "model_module_version": "1.2.0",
      "model_name": "LayoutModel",
      "state": {
       "_model_module": "@jupyter-widgets/base",
       "_model_module_version": "1.2.0",
       "_model_name": "LayoutModel",
       "_view_count": null,
       "_view_module": "@jupyter-widgets/base",
       "_view_module_version": "1.2.0",
       "_view_name": "LayoutView",
       "align_content": null,
       "align_items": null,
       "align_self": null,
       "border": null,
       "bottom": null,
       "display": null,
       "flex": null,
       "flex_flow": null,
       "grid_area": null,
       "grid_auto_columns": null,
       "grid_auto_flow": null,
       "grid_auto_rows": null,
       "grid_column": null,
       "grid_gap": null,
       "grid_row": null,
       "grid_template_areas": null,
       "grid_template_columns": null,
       "grid_template_rows": null,
       "height": null,
       "justify_content": null,
       "justify_items": null,
       "left": null,
       "margin": null,
       "max_height": null,
       "max_width": null,
       "min_height": null,
       "min_width": null,
       "object_fit": null,
       "object_position": null,
       "order": null,
       "overflow": null,
       "overflow_x": null,
       "overflow_y": null,
       "padding": null,
       "right": null,
       "top": null,
       "visibility": null,
       "width": null
      }
     },
     "dab397acdbdd48acadc1997200950325": {
      "model_module": "@jupyter-widgets/controls",
      "model_module_version": "1.5.0",
      "model_name": "FloatProgressModel",
      "state": {
       "_dom_classes": [],
       "_model_module": "@jupyter-widgets/controls",
       "_model_module_version": "1.5.0",
       "_model_name": "FloatProgressModel",
       "_view_count": null,
       "_view_module": "@jupyter-widgets/controls",
       "_view_module_version": "1.5.0",
       "_view_name": "ProgressView",
       "bar_style": "success",
       "description": "",
       "description_tooltip": null,
       "layout": "IPY_MODEL_a2448679149d46f9a23b0ac4aa5fb4bf",
       "max": 18.0,
       "min": 0.0,
       "orientation": "horizontal",
       "style": "IPY_MODEL_60a20d1d30094e32b3cbc27a6862013f",
       "value": 18.0
      }
     },
     "efc90b809c424a36b4ad6faa61639516": {
      "model_module": "@jupyter-widgets/controls",
      "model_module_version": "1.5.0",
      "model_name": "HTMLModel",
      "state": {
       "_dom_classes": [],
       "_model_module": "@jupyter-widgets/controls",
       "_model_module_version": "1.5.0",
       "_model_name": "HTMLModel",
       "_view_count": null,
       "_view_module": "@jupyter-widgets/controls",
       "_view_module_version": "1.5.0",
       "_view_name": "HTMLView",
       "description": "",
       "description_tooltip": null,
       "layout": "IPY_MODEL_d0121fee306648379da9d81e88238147",
       "placeholder": "​",
       "style": "IPY_MODEL_8ff2b0a934ae4ef49e22150fd222813a",
       "value": "100%"
      }
     },
     "feeb70f2ee8f4234b9d1b3f1208eec5e": {
      "model_module": "@jupyter-widgets/base",
      "model_module_version": "1.2.0",
      "model_name": "LayoutModel",
      "state": {
       "_model_module": "@jupyter-widgets/base",
       "_model_module_version": "1.2.0",
       "_model_name": "LayoutModel",
       "_view_count": null,
       "_view_module": "@jupyter-widgets/base",
       "_view_module_version": "1.2.0",
       "_view_name": "LayoutView",
       "align_content": null,
       "align_items": null,
       "align_self": null,
       "border": null,
       "bottom": null,
       "display": null,
       "flex": null,
       "flex_flow": null,
       "grid_area": null,
       "grid_auto_columns": null,
       "grid_auto_flow": null,
       "grid_auto_rows": null,
       "grid_column": null,
       "grid_gap": null,
       "grid_row": null,
       "grid_template_areas": null,
       "grid_template_columns": null,
       "grid_template_rows": null,
       "height": null,
       "justify_content": null,
       "justify_items": null,
       "left": null,
       "margin": null,
       "max_height": null,
       "max_width": null,
       "min_height": null,
       "min_width": null,
       "object_fit": null,
       "object_position": null,
       "order": null,
       "overflow": null,
       "overflow_x": null,
       "overflow_y": null,
       "padding": null,
       "right": null,
       "top": null,
       "visibility": null,
       "width": null
      }
     }
    },
    "version_major": 2,
    "version_minor": 0
   }
  }
 },
 "nbformat": 4,
 "nbformat_minor": 4
}
